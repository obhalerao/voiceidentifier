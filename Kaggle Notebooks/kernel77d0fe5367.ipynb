{
 "cells": [
  {
   "cell_type": "code",
   "execution_count": 1,
   "metadata": {
    "colab": {
     "base_uri": "https://localhost:8080/",
     "height": 34
    },
    "colab_type": "code",
    "id": "YY9yjpSRZxgt",
    "outputId": "e880617e-f6dc-42c5-eb54-1e9294e769d8"
   },
   "outputs": [
    {
     "name": "stderr",
     "output_type": "stream",
     "text": [
      "Using TensorFlow backend.\n"
     ]
    }
   ],
   "source": [
    "from keras.models import Sequential\n",
    "from keras.layers import Dense, Activation, Dropout\n",
    "from keras.callbacks import ModelCheckpoint\n",
    "from sklearn.metrics import classification_report\n",
    "import keras\n",
    "import numpy as np\n",
    "import csv\n",
    "import random"
   ]
  },
  {
   "cell_type": "code",
   "execution_count": null,
   "metadata": {},
   "outputs": [],
   "source": []
  },
  {
   "cell_type": "code",
   "execution_count": 2,
   "metadata": {
    "_kg_hide-output": true,
    "colab": {},
    "colab_type": "code",
    "id": "PLkS7rSFda_D"
   },
   "outputs": [],
   "source": [
    "infile = open('../input/voiceidentification/features.csv')\n",
    "tests = open('../input/voiceidentification/test_indices.csv')\n",
    "trains = open('../input/voiceidentification/train_indices.csv')\n",
    "csvreader = csv.reader(infile)\n",
    "csv1 = csv.reader(tests)\n",
    "csv2 = csv.reader(trains)\n",
    "\n",
    "data = list(csvreader)\n",
    "training_data = [data[int(i[0])] for i in csv2]\n",
    "testing_data = [data[int(i[0])] for i in csv1]\n",
    "training_labels = np.array([[int(i[0])] for i in training_data])\n",
    "testing_labels = np.array([[int(i[0])] for i in testing_data])\n",
    "training_data = np.array([i[1:] for i in training_data])\n",
    "testing_data = np.array([i[1:] for i in testing_data])\n",
    "\n",
    "Y = np.concatenate((training_labels,testing_labels),axis=0)\n",
    "X = np.concatenate((training_data,testing_data),axis=0)\n",
    "\n",
    "infile.close()\n",
    "tests.close()\n",
    "trains.close()"
   ]
  },
  {
   "cell_type": "code",
   "execution_count": 3,
   "metadata": {
    "colab": {
     "base_uri": "https://localhost:8080/",
     "height": 292
    },
    "colab_type": "code",
    "id": "W7Xx8wHIxbAu",
    "outputId": "616dd187-afd3-453f-edd0-3894e0fcfb20"
   },
   "outputs": [],
   "source": [
    "model = Sequential([Dense(1024, activation='relu', input_shape=(len(training_data[0]),)), Dropout(0.5), Dense(256, activation='relu'), Dropout(0.5), Dense(64, activation='relu'), Dropout(0.5), Dense(10, activation='softmax')])\n",
    "model.load_weights(\"../input/weightsafter85epochs/weights-improvement-85-0.42.hdf5\")\n",
    "model.compile(optimizer='adam', loss='categorical_crossentropy', metrics=['accuracy'])"
   ]
  },
  {
   "cell_type": "code",
   "execution_count": 4,
   "metadata": {
    "colab": {
     "base_uri": "https://localhost:8080/",
     "height": 972
    },
    "colab_type": "code",
    "id": "Z8fH5D2vzWWm",
    "outputId": "6d9260cb-3b52-49dc-9fbd-c920b9ace1f8"
   },
   "outputs": [
    {
     "name": "stdout",
     "output_type": "stream",
     "text": [
      "Train on 297212 samples, validate on 33024 samples\n",
      "Epoch 1/200\n",
      "297212/297212 [==============================] - 58s 195us/step - loss: 1.7443 - accuracy: 0.3782 - val_loss: 1.6482 - val_accuracy: 0.4099\n",
      "\n",
      "Epoch 00001: val_accuracy improved from -inf to 0.40988, saving model to weights-improvement-01-0.41.hdf5\n",
      "Epoch 2/200\n",
      "297212/297212 [==============================] - 56s 188us/step - loss: 1.7410 - accuracy: 0.3801 - val_loss: 1.6458 - val_accuracy: 0.4077\n",
      "\n",
      "Epoch 00002: val_accuracy did not improve from 0.40988\n",
      "Epoch 3/200\n",
      "297212/297212 [==============================] - 56s 187us/step - loss: 1.7447 - accuracy: 0.3785 - val_loss: 1.6506 - val_accuracy: 0.4047\n",
      "\n",
      "Epoch 00003: val_accuracy did not improve from 0.40988\n",
      "Epoch 4/200\n",
      "297212/297212 [==============================] - 56s 189us/step - loss: 1.7422 - accuracy: 0.3798 - val_loss: 1.6419 - val_accuracy: 0.4143\n",
      "\n",
      "Epoch 00004: val_accuracy improved from 0.40988 to 0.41427, saving model to weights-improvement-04-0.41.hdf5\n",
      "Epoch 5/200\n",
      "297212/297212 [==============================] - 56s 188us/step - loss: 1.7431 - accuracy: 0.3785 - val_loss: 1.6499 - val_accuracy: 0.4131\n",
      "\n",
      "Epoch 00005: val_accuracy did not improve from 0.41427\n",
      "Epoch 6/200\n",
      "297212/297212 [==============================] - 56s 188us/step - loss: 1.7419 - accuracy: 0.3794 - val_loss: 1.6505 - val_accuracy: 0.4109\n",
      "\n",
      "Epoch 00009: val_accuracy did not improve from 0.41536\n",
      "Epoch 10/200\n",
      "297212/297212 [==============================] - 56s 189us/step - loss: 1.7431 - accuracy: 0.3804 - val_loss: 1.6551 - val_accuracy: 0.3999\n",
      "\n",
      "Epoch 00010: val_accuracy did not improve from 0.41536\n",
      "Epoch 11/200\n",
      "297212/297212 [==============================] - 56s 188us/step - loss: 1.7390 - accuracy: 0.3795 - val_loss: 1.6449 - val_accuracy: 0.4094\n",
      "\n",
      "Epoch 00011: val_accuracy did not improve from 0.41536\n",
      "Epoch 12/200\n",
      "297212/297212 [==============================] - 56s 187us/step - loss: 1.7417 - accuracy: 0.3794 - val_loss: 1.6425 - val_accuracy: 0.4087\n",
      "\n",
      "Epoch 00012: val_accuracy did not improve from 0.41536\n",
      "Epoch 13/200\n",
      "297212/297212 [==============================] - 56s 188us/step - loss: 1.7400 - accuracy: 0.3795 - val_loss: 1.6435 - val_accuracy: 0.4122\n",
      "\n",
      "Epoch 00013: val_accuracy did not improve from 0.41536\n",
      "Epoch 14/200\n",
      "297212/297212 [==============================] - 55s 186us/step - loss: 1.7440 - accuracy: 0.3792 - val_loss: 1.6403 - val_accuracy: 0.4159\n",
      "\n",
      "Epoch 00014: val_accuracy improved from 0.41536 to 0.41594, saving model to weights-improvement-14-0.42.hdf5\n",
      "Epoch 15/200\n",
      "297212/297212 [==============================] - 56s 187us/step - loss: 1.7406 - accuracy: 0.3792 - val_loss: 1.6414 - val_accuracy: 0.4116\n",
      "\n",
      "Epoch 00015: val_accuracy did not improve from 0.41594\n",
      "Epoch 16/200\n",
      "297212/297212 [==============================] - 55s 186us/step - loss: 1.7395 - accuracy: 0.3809 - val_loss: 1.6500 - val_accuracy: 0.4074\n",
      "\n",
      "Epoch 00016: val_accuracy did not improve from 0.41594\n",
      "Epoch 17/200\n",
      "297212/297212 [==============================] - 55s 185us/step - loss: 1.7326 - accuracy: 0.3839 - val_loss: 1.6353 - val_accuracy: 0.4192\n",
      "\n",
      "Epoch 00073: val_accuracy did not improve from 0.42018\n",
      "Epoch 74/200\n",
      "297212/297212 [==============================] - 54s 183us/step - loss: 1.7336 - accuracy: 0.3850 - val_loss: 1.6345 - val_accuracy: 0.4179\n",
      "\n",
      "Epoch 00074: val_accuracy did not improve from 0.42018\n",
      "Epoch 75/200\n",
      "297212/297212 [==============================] - 54s 182us/step - loss: 1.7306 - accuracy: 0.3857 - val_loss: 1.6347 - val_accuracy: 0.4177\n",
      "\n",
      "Epoch 00110: val_accuracy did not improve from 0.42203\n",
      "Epoch 111/200\n",
      "297212/297212 [==============================] - 53s 179us/step - loss: 1.7318 - accuracy: 0.3866 - val_loss: 1.6268 - val_accuracy: 0.4176\n",
      "\n",
      "Epoch 00119: val_accuracy did not improve from 0.42203\n",
      "Epoch 120/200\n",
      "297212/297212 [==============================] - 54s 181us/step - loss: 1.7291 - accuracy: 0.3855 - val_loss: 1.6275 - val_accuracy: 0.4165\n",
      "\n",
      "Epoch 00129: val_accuracy did not improve from 0.42227\n",
      "Epoch 130/200\n",
      "297212/297212 [==============================] - 54s 181us/step - loss: 1.7316 - accuracy: 0.3866 - val_loss: 1.6340 - val_accuracy: 0.4170\n",
      "\n",
      "Epoch 00130: val_accuracy did not improve from 0.42227\n",
      "Epoch 131/200\n",
      "297212/297212 [==============================] - 54s 181us/step - loss: 1.7287 - accuracy: 0.3869 - val_loss: 1.6325 - val_accuracy: 0.4161\n",
      "\n",
      "Epoch 00175: val_accuracy did not improve from 0.42348\n",
      "Epoch 176/200\n",
      "297212/297212 [==============================] - 53s 179us/step - loss: 1.7302 - accuracy: 0.3870 - val_loss: 1.6307 - val_accuracy: 0.4165\n",
      "\n",
      "Epoch 00194: val_accuracy did not improve from 0.42445\n",
      "Epoch 195/200\n",
      "  3168/297212 [..............................] - ETA: 49s - loss: 1.7200 - accuracy: 0.3905"
     ]
    }
   ],
   "source": [
    "filepath=\"weights-improvement-{epoch:02d}-{val_accuracy:.2f}.hdf5\"\n",
    "checkpoint = ModelCheckpoint(filepath, monitor='val_accuracy', verbose=1, save_best_only=True, mode='max')\n",
    "callbacks_list = [checkpoint]\n",
    "\n",
    "one_hot_labels = keras.utils.to_categorical(Y, num_classes=10)\n",
    "model.fit(X, one_hot_labels, validation_split=0.1, epochs=200, batch_size=32, callbacks=callbacks_list, verbose=1)\n"
   ]
  },
  {
   "cell_type": "code",
   "execution_count": 5,
   "metadata": {
    "colab": {},
    "colab_type": "code",
    "id": "AAK4oc5t0mkf"
   },
   "outputs": [
    {
     "name": "stdout",
     "output_type": "stream",
     "text": [
      "20000/20000 [==============================] - 2s 109us/step\n",
      "[1.637090384864807, 0.41214999556541443]\n"
     ]
    }
   ],
   "source": [
    "one_hot_test_labels = keras.utils.to_categorical(testing_labels, num_classes=10)\n",
    "score = model.evaluate(testing_data, one_hot_test_labels)\n",
    "print(score)"
   ]
  },
  {
   "cell_type": "code",
   "execution_count": 6,
   "metadata": {
    "colab": {},
    "colab_type": "code",
    "id": "dxcBcJBNcPhu"
   },
   "outputs": [],
   "source": [
    "y_pred = model.predict(testing_data)\n",
    "report = classification_report(testing_labels, [np.argmax(i) for i in y_pred])"
   ]
  },
  {
   "cell_type": "code",
   "execution_count": 7,
   "metadata": {
    "colab": {},
    "colab_type": "code",
    "id": "4-ao-Q1b3z9n"
   },
   "outputs": [
    {
     "name": "stdout",
     "output_type": "stream",
     "text": [
      "              precision    recall  f1-score   support\n",
      "\n",
      "           0       0.43      0.73      0.54      4240\n",
      "           1       0.50      0.15      0.23       928\n",
      "           2       0.78      0.01      0.03       502\n",
      "           3       0.43      0.59      0.50      4038\n",
      "           4       0.60      0.23      0.33       719\n",
      "           5       0.56      0.13      0.21      1278\n",
      "           6       0.31      0.41      0.35      2074\n",
      "           7       0.53      0.10      0.17      1869\n",
      "           8       0.38      0.37      0.37      2799\n",
      "           9       0.42      0.14      0.21      1553\n",
      "\n",
      "    accuracy                           0.41     20000\n",
      "   macro avg       0.49      0.29      0.29     20000\n",
      "weighted avg       0.44      0.41      0.37     20000\n",
      "\n"
     ]
    }
   ],
   "source": [
    "print(report)"
   ]
  },
  {
   "cell_type": "markdown",
   "metadata": {
    "colab_type": "text",
    "id": "aipZwLqCIpre"
   },
   "source": []
  }
 ],
 "metadata": {
  "accelerator": "TPU",
  "colab": {
   "name": "VoiceIdentification.ipynb",
   "provenance": []
  },
  "kernelspec": {
   "display_name": "Python 3",
   "name": "python3"
  },
  "language_info": {
   "codemirror_mode": {
    "name": "ipython",
    "version": 3
   },
   "file_extension": ".py",
   "mimetype": "text/x-python",
   "name": "python",
   "nbconvert_exporter": "python",
   "pygments_lexer": "ipython3",
   "version": "3.6.6"
  }
 },
 "nbformat": 4,
 "nbformat_minor": 1
}
