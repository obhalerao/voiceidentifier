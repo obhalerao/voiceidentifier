{
 "cells": [
  {
   "cell_type": "code",
   "execution_count": 1,
   "metadata": {
    "_cell_guid": "b1076dfc-b9ad-4769-8c92-a6c4dae69d19",
    "_uuid": "8f2839f25d086af736a60e9eeb907d3b93b6e0e5"
   },
   "outputs": [
    {
     "name": "stdout",
     "output_type": "stream",
     "text": [
      "praveen.wav\n",
      "Speaker praveen done.\n",
      "277 spectrograms\n",
      "ray.wav\n",
      "Speaker ray done.\n",
      "271 spectrograms\n",
      "rahul.wav\n",
      "Speaker rahul done.\n",
      "264 spectrograms\n",
      "omkar.wav\n",
      "Speaker omkar done.\n",
      "262 spectrograms\n",
      "yoseph.wav\n",
      "Speaker yoseph done.\n",
      "252 spectrograms\n"
     ]
    }
   ],
   "source": [
    "import librosa\n",
    "\n",
    "import soundfile as sf\n",
    "\n",
    "import numpy as np\n",
    "from scipy import signal\n",
    "from scipy.fftpack import fft\n",
    "\n",
    "import matplotlib\n",
    "from matplotlib import pyplot as plt\n",
    "import os\n",
    "\n",
    "INTERVAL = 640\n",
    "\n",
    "import random\n",
    "\n",
    "f = [] #files go here\n",
    "\n",
    "speakers = []\n",
    "\n",
    "init_path = \"../input/\"\n",
    "\n",
    "INTERVAL = 400\n",
    "STEP = 160\n",
    "\n",
    "for r, d, f in os.walk(init_path):\n",
    "    for file in f:\n",
    "        spec_id = 0\n",
    "        filename = r + '/' + file\n",
    "        print(file)\n",
    "        speakers.append(file.split('.')[0])\n",
    "        rec, sr = librosa.load(filename, sr=16000)\n",
    "        intervals = librosa.effects.split(rec,frame_length=640,hop_length=160)\n",
    "        arrs = [rec[i[0]:i[1]] for i in intervals]\n",
    "        newrec = np.concatenate(arrs)\n",
    "        zcr = librosa.feature.zero_crossing_rate(newrec, frame_length=640,hop_length=160)\n",
    "        maxv = np.max(zcr)\n",
    "        l = np.argwhere(zcr < 0.25*maxv)[:,1]*INTERVAL\n",
    "        arrs = []\n",
    "        for number, idx in enumerate(l):\n",
    "            arrs.append(newrec[idx:idx+INTERVAL])\n",
    "            if(np.count_nonzero(arrs[-1]) < INTERVAL):\n",
    "                continue\n",
    "        arrs = np.asarray(arrs)\n",
    "        newrec = np.concatenate(arrs)\n",
    "        for idx in range(0, len(newrec), sr):\n",
    "            if(idx+sr < len(newrec)):\n",
    "                spectrogram = librosa.feature.melspectrogram(y=newrec[idx:idx+sr], sr=sr, n_fft=INTERVAL, hop_length=STEP)\n",
    "                spectrogram = spectrogram[:,:100]\n",
    "                np.savetxt(\"spectrogram_{}_{}.csv\".format(len(speakers)-1, spec_id), spectrogram, delimiter=',')\n",
    "                spec_id+=1\n",
    "        print(\"Speaker {} done.\".format(speakers[-1]))\n",
    "        print(\"{} spectrograms\".format(spec_id))\n",
    "    \n",
    "\n"
   ]
  },
  {
   "cell_type": "code",
   "execution_count": null,
   "metadata": {},
   "outputs": [],
   "source": []
  },
  {
   "cell_type": "code",
   "execution_count": null,
   "metadata": {
    "_cell_guid": "79c7e3d0-c299-4dcb-8224-4455121ee9b0",
    "_uuid": "d629ff2d2480ee46fbb7e2d37f6b5fab8052498a"
   },
   "outputs": [],
   "source": []
  },
  {
   "cell_type": "code",
   "execution_count": null,
   "metadata": {},
   "outputs": [],
   "source": []
  }
 ],
 "metadata": {
  "kernelspec": {
   "display_name": "Python 3",
   "language": "python",
   "name": "python3"
  },
  "language_info": {
   "codemirror_mode": {
    "name": "ipython",
    "version": 3
   },
   "file_extension": ".py",
   "mimetype": "text/x-python",
   "name": "python",
   "nbconvert_exporter": "python",
   "pygments_lexer": "ipython3",
   "version": "3.6.6"
  }
 },
 "nbformat": 4,
 "nbformat_minor": 4
}
